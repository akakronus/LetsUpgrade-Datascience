{
  "nbformat": 4,
  "nbformat_minor": 0,
  "metadata": {
    "kernelspec": {
      "display_name": "Python 3",
      "language": "python",
      "name": "python3"
    },
    "language_info": {
      "codemirror_mode": {
        "name": "ipython",
        "version": 3
      },
      "file_extension": ".py",
      "mimetype": "text/x-python",
      "name": "python",
      "nbconvert_exporter": "python",
      "pygments_lexer": "ipython3",
      "version": "3.7.3"
    },
    "colab": {
      "name": "Assignment 2 LetsUpgrade.ipynb",
      "provenance": []
    }
  },
  "cells": [
    {
      "cell_type": "markdown",
      "metadata": {
        "id": "YDqDxsPVaIP_"
      },
      "source": [
        "# Question:01"
      ]
    },
    {
      "cell_type": "code",
      "metadata": {
        "scrolled": true,
        "id": "uqv0d2zqaIQV",
        "outputId": "1320d027-ea95-4f5a-fee0-7a4fe1141e28"
      },
      "source": [
        "list1 = []\n",
        "for i in range(10):\n",
        "    x = int(input())\n",
        "    list1.append(x)\n",
        "even_list = []\n",
        "for i in list1:\n",
        "        if(i%2==0):\n",
        "            even_list.append(i)\n",
        "print(even_list)        "
      ],
      "execution_count": null,
      "outputs": [
        {
          "output_type": "stream",
          "text": [
            "20\n",
            "21\n",
            "22\n",
            "23\n",
            "24\n",
            "25\n",
            "26\n",
            "27\n",
            "28\n",
            "29\n",
            "[20, 22, 24, 26, 28]\n"
          ],
          "name": "stdout"
        }
      ]
    },
    {
      "cell_type": "markdown",
      "metadata": {
        "id": "DHLtHQvSaIQz"
      },
      "source": [
        "# Question:02"
      ]
    },
    {
      "cell_type": "markdown",
      "metadata": {
        "id": "zrCU6nXuaIQ2"
      },
      "source": [
        "LIST COMPREHENSION :\n",
        "\n",
        "List Comprehension is an elegant way to define and create list based on existing lists.\n",
        "The syntax of List comprehention is [expression for member in iterable]\n",
        "For example,"
      ]
    },
    {
      "cell_type": "code",
      "metadata": {
        "id": "8_GzQp6WaIQ8",
        "outputId": "d67e2196-f5eb-422a-d1a7-7b558917e5b3"
      },
      "source": [
        "squares = [i**2 for i in (1,2,3,4,5,6)]\n",
        "print(squares)"
      ],
      "execution_count": null,
      "outputs": [
        {
          "output_type": "stream",
          "text": [
            "[1, 4, 9, 16, 25, 36]\n"
          ],
          "name": "stdout"
        }
      ]
    },
    {
      "cell_type": "markdown",
      "metadata": {
        "id": "mvnExXCRaIRM"
      },
      "source": [
        "In the above,\n",
        "\"i**2\" is the expression. An Expression is the member itself, a call to a method, or any other valid expression that returns a value.\n",
        " \"i\" is the memeber. Member is the object or value in the list or iterable.\n",
        " \"(1,2,3,4,5,6)\" is iterable. Iterable is a list, set, sequence, generator, or any other object that can return its elements one at a time."
      ]
    },
    {
      "cell_type": "markdown",
      "metadata": {
        "id": "oNZzknukaIRP"
      },
      "source": [
        "The above example can also be written as,"
      ]
    },
    {
      "cell_type": "code",
      "metadata": {
        "id": "UATF2pZ1aIRR",
        "outputId": "ac89c2ed-3a65-4908-8c49-8ee5411605bd"
      },
      "source": [
        "squares = [i*i for i in range(1,7)]\n",
        "print(squares)"
      ],
      "execution_count": null,
      "outputs": [
        {
          "output_type": "stream",
          "text": [
            "[1, 4, 9, 16, 25, 36]\n"
          ],
          "name": "stdout"
        }
      ]
    },
    {
      "cell_type": "markdown",
      "metadata": {
        "id": "JD2q4tc4aIRg"
      },
      "source": [
        "# Question:03\n"
      ]
    },
    {
      "cell_type": "code",
      "metadata": {
        "id": "LYAolypaaIRi",
        "outputId": "c4e3281f-a0ca-4012-b256-b1c404c288db"
      },
      "source": [
        "D = {} #D is an empty Dictionary\n",
        "#Getting input values of \"n\" from user\n",
        "n = int(input())\n",
        "for i in range(1,n+1):\n",
        "    D[i] = i*i\n",
        "print(D)"
      ],
      "execution_count": null,
      "outputs": [
        {
          "output_type": "stream",
          "text": [
            "9\n",
            "{1: 1, 2: 4, 3: 9, 4: 16, 5: 25, 6: 36, 7: 49, 8: 64, 9: 81}\n"
          ],
          "name": "stdout"
        }
      ]
    },
    {
      "cell_type": "markdown",
      "metadata": {
        "id": "Rq5URl9xaIRw"
      },
      "source": [
        "# Question:04"
      ]
    },
    {
      "cell_type": "code",
      "metadata": {
        "id": "sXyIYRvdaIRy",
        "outputId": "ac7129a0-8aeb-4538-e367-52a51343cf2d"
      },
      "source": [
        "import math\n",
        "(x,y)=(0,0)\n",
        "n = int(input())\n",
        "for i in range(n):\n",
        "    a,b=input().split()\n",
        "    a,b=str(a),int(b)\n",
        "    if a==\"DOWN\":\n",
        "        x , y = x , y-b\n",
        "    elif a==\"LEFT\":\n",
        "        x , y = x-b , y\n",
        "    elif a==\"RIGHT\":\n",
        "        x , y = x+b , y\n",
        "    else:\n",
        "        x , y = x , y+b\n",
        "print(round(math.sqrt((x**2)+(y**2))))"
      ],
      "execution_count": null,
      "outputs": [
        {
          "output_type": "stream",
          "text": [
            "4\n",
            "UP 5\n",
            "DOWN 3\n",
            "LEFT 3\n",
            "RIGHT 2\n",
            "2\n"
          ],
          "name": "stdout"
        }
      ]
    }
  ]
}