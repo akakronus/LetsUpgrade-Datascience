{
  "nbformat": 4,
  "nbformat_minor": 0,
  "metadata": {
    "kernelspec": {
      "display_name": "Python 3",
      "language": "python",
      "name": "python3"
    },
    "language_info": {
      "codemirror_mode": {
        "name": "ipython",
        "version": 3
      },
      "file_extension": ".py",
      "mimetype": "text/x-python",
      "name": "python",
      "nbconvert_exporter": "python",
      "pygments_lexer": "ipython3",
      "version": "3.7.3"
    },
    "colab": {
      "name": "Assignment 1 LetsUpgrade.ipynb",
      "provenance": []
    }
  },
  "cells": [
    {
      "cell_type": "markdown",
      "metadata": {
        "id": "k5AX0iVhZZEf"
      },
      "source": [
        "# Question:01"
      ]
    },
    {
      "cell_type": "markdown",
      "metadata": {
        "id": "taX8cjYXZiJr"
      },
      "source": [
        "RAINBOW"
      ]
    },
    {
      "cell_type": "markdown",
      "metadata": {
        "id": "JGQ_XtlOZZEr"
      },
      "source": [
        "# Question:02\n"
      ]
    },
    {
      "cell_type": "code",
      "metadata": {
        "id": "RJpSStxRZZEt",
        "outputId": "6b4bddcf-9c08-4b65-fc57-b1d9a5e53190"
      },
      "source": [
        "print(\"LETS UPGRADE\")"
      ],
      "execution_count": null,
      "outputs": [
        {
          "output_type": "stream",
          "text": [
            "LETS UPGRADE\n"
          ],
          "name": "stdout"
        }
      ]
    },
    {
      "cell_type": "markdown",
      "metadata": {
        "id": "ZulZe_DcZZE1"
      },
      "source": [
        "# Question:03\n"
      ]
    },
    {
      "cell_type": "code",
      "metadata": {
        "id": "Oo64ulogZZE2",
        "outputId": "f1b9a53e-4c3c-4afd-843d-12936f1b8825"
      },
      "source": [
        "cp = int(input())\n",
        "sp = int(input())\n",
        "if cp < sp:\n",
        "    print(\"Profit\")\n",
        "elif cp > sp:\n",
        "    print(\"Loss\")\n",
        "else :\n",
        "    print(\"Neither\")\n",
        "    "
      ],
      "execution_count": null,
      "outputs": [
        {
          "output_type": "stream",
          "text": [
            "19\n",
            "19\n",
            "Neither\n"
          ],
          "name": "stdout"
        }
      ]
    },
    {
      "cell_type": "markdown",
      "metadata": {
        "id": "cI6RvFnnZZE6"
      },
      "source": [
        "# Question:04"
      ]
    },
    {
      "cell_type": "code",
      "metadata": {
        "id": "J0yZdDOAZZE7",
        "outputId": "e49ba676-307e-4446-d8d3-95ac46bf5f8b"
      },
      "source": [
        "a = int(input())\n",
        "b = a*80\n",
        "print(b)\n"
      ],
      "execution_count": null,
      "outputs": [
        {
          "output_type": "stream",
          "text": [
            "18\n",
            "1440\n"
          ],
          "name": "stdout"
        }
      ]
    }
  ]
}