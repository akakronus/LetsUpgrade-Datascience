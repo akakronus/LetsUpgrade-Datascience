{
  "nbformat": 4,
  "nbformat_minor": 0,
  "metadata": {
    "kernelspec": {
      "display_name": "Python 3",
      "language": "python",
      "name": "python3"
    },
    "language_info": {
      "codemirror_mode": {
        "name": "ipython",
        "version": 3
      },
      "file_extension": ".py",
      "mimetype": "text/x-python",
      "name": "python",
      "nbconvert_exporter": "python",
      "pygments_lexer": "ipython3",
      "version": "3.7.3"
    },
    "colab": {
      "name": "Assignment 3 LetsUpgrade.ipynb",
      "provenance": []
    }
  },
  "cells": [
    {
      "cell_type": "markdown",
      "metadata": {
        "id": "Q191rIrRavoW"
      },
      "source": [
        "# Question:01"
      ]
    },
    {
      "cell_type": "code",
      "metadata": {
        "id": "ZmWdHUPlavoh",
        "outputId": "d18f3cc1-5d64-46b5-8c17-71accf219953"
      },
      "source": [
        "import numpy as np\n",
        "A = np.arange(2,50,3)\n",
        "print(A)"
      ],
      "execution_count": null,
      "outputs": [
        {
          "output_type": "stream",
          "text": [
            "[ 2  5  8 11 14 17 20 23 26 29 32 35 38 41 44 47]\n"
          ],
          "name": "stdout"
        }
      ]
    },
    {
      "cell_type": "markdown",
      "metadata": {
        "id": "8QhJqywbavop"
      },
      "source": [
        "# Question:02"
      ]
    },
    {
      "cell_type": "code",
      "metadata": {
        "id": "6s8WbDMIavoq",
        "outputId": "51fbd57f-b1cd-43fa-ea4e-241c5e10d029"
      },
      "source": [
        "import numpy as np\n",
        "A = []\n",
        "B = []\n",
        "for i in range(5):\n",
        "    x = int(input())\n",
        "    A.append(x)\n",
        "for q in range(5):\n",
        "    y = int(input())\n",
        "    B.append(y)\n",
        "a = np.array(A)\n",
        "b = np.array(B)\n",
        "c = np.concatenate((a,b))\n",
        "print('List1:',a)\n",
        "print('List2:',b)\n",
        "print('concatenated:',c)\n",
        "print('sorted:',np.sort(c))"
      ],
      "execution_count": null,
      "outputs": [
        {
          "output_type": "stream",
          "text": [
            "1\n",
            "2\n",
            "6\n",
            "8\n",
            "5\n",
            "7\n",
            "12\n",
            "11\n",
            "10\n",
            "9\n",
            "List1: [1 2 6 8 5]\n",
            "List2: [ 7 12 11 10  9]\n",
            "concatenated: [ 1  2  6  8  5  7 12 11 10  9]\n",
            "sorted: [ 1  2  5  6  7  8  9 10 11 12]\n"
          ],
          "name": "stdout"
        }
      ]
    },
    {
      "cell_type": "markdown",
      "metadata": {
        "id": "8eirqW8Tavov"
      },
      "source": [
        "# Question:03"
      ]
    },
    {
      "cell_type": "code",
      "metadata": {
        "id": "rsazzvKxavov",
        "outputId": "52bfa596-0f30-46bd-9fe4-2dbadc75a2ff"
      },
      "source": [
        "import numpy as np\n",
        "arr = np.array([ [1,2,3], [4,5,6], [7,8,9] ]) \n",
        "dimension = arr.ndim\n",
        "size = arr.size\n",
        "print(arr)\n",
        "print('Dimension:',dimension)\n",
        "print('Size:',size)"
      ],
      "execution_count": null,
      "outputs": [
        {
          "output_type": "stream",
          "text": [
            "[[1 2 3]\n",
            " [4 5 6]\n",
            " [7 8 9]]\n",
            "Dimension: 2\n",
            "Size: 9\n"
          ],
          "name": "stdout"
        }
      ]
    },
    {
      "cell_type": "markdown",
      "metadata": {
        "id": "_yAmPjWjavoz"
      },
      "source": [
        "# Question:04"
      ]
    },
    {
      "cell_type": "code",
      "metadata": {
        "id": "tuGyBmU8avo0",
        "outputId": "60cfb0d8-df16-4716-9920-42f90c3d68bb"
      },
      "source": [
        "import numpy as np\n",
        "A = np.array([1,2,3,4,5,6,7,8])\n",
        "print(A)\n",
        "print('Dimension:', A.ndim)\n",
        "B = A[: , np.newaxis]\n",
        "print(B)\n",
        "print('Dimension:', B.ndim)"
      ],
      "execution_count": null,
      "outputs": [
        {
          "output_type": "stream",
          "text": [
            "[1 2 3 4 5 6 7 8]\n",
            "Dimension 1\n",
            "[[1]\n",
            " [2]\n",
            " [3]\n",
            " [4]\n",
            " [5]\n",
            " [6]\n",
            " [7]\n",
            " [8]]\n",
            "Dimension 2\n"
          ],
          "name": "stdout"
        }
      ]
    },
    {
      "cell_type": "markdown",
      "metadata": {
        "id": "LkOSfVwVavo3"
      },
      "source": [
        "OR we can use 'np.expand_dims'"
      ]
    },
    {
      "cell_type": "code",
      "metadata": {
        "id": "YybU4J3lavo4",
        "outputId": "96d48036-8b07-45c1-b189-30544a125ea6"
      },
      "source": [
        "import numpy as np\n",
        "A = np.array([1,2,3,4,5,6,7,8])\n",
        "print(A)\n",
        "print('Dimension:', A.ndim)\n",
        "B = np.expand_dims(A, axis=1)\n",
        "print(B)\n",
        "print('Dimension:', B.ndim)"
      ],
      "execution_count": null,
      "outputs": [
        {
          "output_type": "stream",
          "text": [
            "[1 2 3 4 5 6 7 8]\n",
            "Dimension: 1\n",
            "[[1]\n",
            " [2]\n",
            " [3]\n",
            " [4]\n",
            " [5]\n",
            " [6]\n",
            " [7]\n",
            " [8]]\n",
            "Dimension: 2\n"
          ],
          "name": "stdout"
        }
      ]
    },
    {
      "cell_type": "markdown",
      "metadata": {
        "id": "fXzfmXXSavo7"
      },
      "source": [
        "# Question:05"
      ]
    },
    {
      "cell_type": "code",
      "metadata": {
        "id": "VV61dQUvavo8",
        "outputId": "27c17d96-d203-407d-f7de-e275c85be0bb"
      },
      "source": [
        "import numpy as np\n",
        "arr1 = np.array([ [1,2,3], [4,5,6], [7,8,9] ])\n",
        "arr2 = np.array([ [10,11,12], [13,14,15], [16,17,18,] ])\n",
        "#vertically stacking the two square numpy arrays\n",
        "Vstack = np.vstack([arr1, arr2])\n",
        "#horizonatally stacking the two square numpy arrays\n",
        "Hstack = np.hstack([arr1, arr2])\n",
        "print('Vertical Stacking:\\n',Vstack)\n",
        "print('Horizontal Stacking:\\n',Hstack)"
      ],
      "execution_count": null,
      "outputs": [
        {
          "output_type": "stream",
          "text": [
            "Vertical Stacking:\n",
            " [[ 1  2  3]\n",
            " [ 4  5  6]\n",
            " [ 7  8  9]\n",
            " [10 11 12]\n",
            " [13 14 15]\n",
            " [16 17 18]]\n",
            "Horizontal Stacking:\n",
            " [[ 1  2  3 10 11 12]\n",
            " [ 4  5  6 13 14 15]\n",
            " [ 7  8  9 16 17 18]]\n"
          ],
          "name": "stdout"
        }
      ]
    },
    {
      "cell_type": "markdown",
      "metadata": {
        "id": "w7Q2_Kkravo_"
      },
      "source": [
        "# Question:06"
      ]
    },
    {
      "cell_type": "markdown",
      "metadata": {
        "id": "YMdZPpkWavo_"
      },
      "source": [
        "We can get the unique items and count of the unique items using a numpy attribute which is numpy.unique() and print the unique items and count of the unique items in the formm of array using an attribute numpy.asarray()"
      ]
    },
    {
      "cell_type": "code",
      "metadata": {
        "id": "HSL0lwmmavpA",
        "outputId": "7e2c8e48-1de0-4dab-e667-b31860f713f7"
      },
      "source": [
        "import numpy as np\n",
        "arr = np.array([1,1,1,2,3,4,4,3,2,2,5,7,7,7,7,8])\n",
        "x, y= np.unique(arr, return_counts=True)\n",
        "# x = Unique value and y = count of unique value(frequency)\n",
        "z = np.asarray((x,y)).T\n",
        "print(z)"
      ],
      "execution_count": null,
      "outputs": [
        {
          "output_type": "stream",
          "text": [
            "[[1 3]\n",
            " [2 3]\n",
            " [3 2]\n",
            " [4 2]\n",
            " [5 1]\n",
            " [7 4]\n",
            " [8 1]]\n"
          ],
          "name": "stdout"
        }
      ]
    }
  ]
}